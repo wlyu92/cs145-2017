{
 "cells": [
  {
   "cell_type": "code",
   "execution_count": 10,
   "metadata": {
    "collapsed": false
   },
   "outputs": [],
   "source": [
    "# sudo pip install plyvel\n",
    "import plyvel"
   ]
  },
  {
   "cell_type": "code",
   "execution_count": 11,
   "metadata": {
    "collapsed": false
   },
   "outputs": [],
   "source": [
    "db = plyvel.DB('/tmp/testdb/', create_if_missing=True)"
   ]
  },
  {
   "cell_type": "code",
   "execution_count": 12,
   "metadata": {
    "collapsed": true
   },
   "outputs": [],
   "source": [
    "db.put(\"name\", \"peter\")"
   ]
  },
  {
   "cell_type": "code",
   "execution_count": 13,
   "metadata": {
    "collapsed": false
   },
   "outputs": [
    {
     "data": {
      "text/plain": [
       "'peter'"
      ]
     },
     "execution_count": 13,
     "metadata": {},
     "output_type": "execute_result"
    }
   ],
   "source": [
    "db.get(\"name\")"
   ]
  },
  {
   "cell_type": "code",
   "execution_count": 14,
   "metadata": {
    "collapsed": true
   },
   "outputs": [],
   "source": [
    "db.delete(\"name\")"
   ]
  },
  {
   "cell_type": "code",
   "execution_count": 17,
   "metadata": {
    "collapsed": false
   },
   "outputs": [],
   "source": [
    "for i in range(0, 100):\n",
    "    db.put(\"key%d\" % i, \"%d\" % i)"
   ]
  },
  {
   "cell_type": "code",
   "execution_count": 19,
   "metadata": {
    "collapsed": false
   },
   "outputs": [
    {
     "name": "stdout",
     "output_type": "stream",
     "text": [
      "key0 0\n",
      "key1 1\n",
      "key10 10\n",
      "key11 11\n",
      "key12 12\n",
      "key13 13\n",
      "key14 14\n",
      "key15 15\n",
      "key16 16\n",
      "key17 17\n",
      "key18 18\n",
      "key19 19\n",
      "key2 2\n",
      "key20 20\n",
      "key21 21\n",
      "key22 22\n",
      "key23 23\n",
      "key24 24\n",
      "key25 25\n",
      "key26 26\n",
      "key27 27\n",
      "key28 28\n",
      "key29 29\n",
      "key3 3\n",
      "key30 30\n",
      "key31 31\n",
      "key32 32\n",
      "key33 33\n",
      "key34 34\n",
      "key35 35\n",
      "key36 36\n",
      "key37 37\n",
      "key38 38\n",
      "key39 39\n",
      "key4 4\n",
      "key40 40\n",
      "key41 41\n",
      "key42 42\n",
      "key43 43\n",
      "key44 44\n",
      "key45 45\n",
      "key46 46\n",
      "key47 47\n",
      "key48 48\n",
      "key49 49\n",
      "key5 5\n",
      "key50 50\n",
      "key51 51\n",
      "key52 52\n",
      "key53 53\n",
      "key54 54\n",
      "key55 55\n",
      "key56 56\n",
      "key57 57\n",
      "key58 58\n",
      "key59 59\n",
      "key6 6\n",
      "key60 60\n",
      "key61 61\n",
      "key62 62\n",
      "key63 63\n",
      "key64 64\n",
      "key65 65\n",
      "key66 66\n",
      "key67 67\n",
      "key68 68\n",
      "key69 69\n",
      "key7 7\n",
      "key70 70\n",
      "key71 71\n",
      "key72 72\n",
      "key73 73\n",
      "key74 74\n",
      "key75 75\n",
      "key76 76\n",
      "key77 77\n",
      "key78 78\n",
      "key79 79\n",
      "key8 8\n",
      "key80 80\n",
      "key81 81\n",
      "key82 82\n",
      "key83 83\n",
      "key84 84\n",
      "key85 85\n",
      "key86 86\n",
      "key87 87\n",
      "key88 88\n",
      "key89 89\n",
      "key9 9\n",
      "key90 90\n",
      "key91 91\n",
      "key92 92\n",
      "key93 93\n",
      "key94 94\n",
      "key95 95\n",
      "key96 96\n",
      "key97 97\n",
      "key98 98\n",
      "key99 99\n"
     ]
    }
   ],
   "source": [
    "for k, v in db:\n",
    "    print k, v"
   ]
  },
  {
   "cell_type": "code",
   "execution_count": 20,
   "metadata": {
    "collapsed": false
   },
   "outputs": [
    {
     "name": "stdout",
     "output_type": "stream",
     "text": [
      "key20 20\n",
      "key21 21\n",
      "key22 22\n",
      "key23 23\n",
      "key24 24\n",
      "key25 25\n",
      "key26 26\n",
      "key27 27\n",
      "key28 28\n",
      "key29 29\n",
      "key3 3\n",
      "key30 30\n",
      "key31 31\n",
      "key32 32\n",
      "key33 33\n",
      "key34 34\n",
      "key35 35\n",
      "key36 36\n",
      "key37 37\n",
      "key38 38\n",
      "key39 39\n",
      "key4 4\n",
      "key40 40\n",
      "key41 41\n",
      "key42 42\n",
      "key43 43\n",
      "key44 44\n",
      "key45 45\n",
      "key46 46\n",
      "key47 47\n",
      "key48 48\n",
      "key49 49\n",
      "key5 5\n"
     ]
    }
   ],
   "source": [
    "for key, value in db.iterator(start=b'key2', include_start=False,\n",
    "                               stop=b'key5', include_stop=True):\n",
    "    print key, value"
   ]
  },
  {
   "cell_type": "code",
   "execution_count": null,
   "metadata": {
    "collapsed": true
   },
   "outputs": [],
   "source": []
  }
 ],
 "metadata": {
  "kernelspec": {
   "display_name": "Python 2",
   "language": "python",
   "name": "python2"
  },
  "language_info": {
   "codemirror_mode": {
    "name": "ipython",
    "version": 2
   },
   "file_extension": ".py",
   "mimetype": "text/x-python",
   "name": "python",
   "nbconvert_exporter": "python",
   "pygments_lexer": "ipython2",
   "version": "2.7.10"
  }
 },
 "nbformat": 4,
 "nbformat_minor": 0
}
