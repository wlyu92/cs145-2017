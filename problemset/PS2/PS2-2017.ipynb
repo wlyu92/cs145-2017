{
 "cells": [
  {
   "cell_type": "code",
   "execution_count": 2,
   "metadata": {},
   "outputs": [
    {
     "data": {
      "text/plain": [
       "u'Connected: None@'"
      ]
     },
     "execution_count": 2,
     "metadata": {},
     "output_type": "execute_result"
    }
   ],
   "source": [
    "%load_ext sql\n",
    "%sql sqlite:///"
   ]
  },
  {
   "cell_type": "markdown",
   "metadata": {},
   "source": [
    "Problem Set 2\n",
    "=======\n",
    "\n",
    "\n",
    "### Instructions / Notes:\n",
    "\n",
    "**_Read these carefully_**\n",
    "\n",
    "* This problem set _does not_ come with a dataset to load; instead, make your own instances of tables, either as solutions to the problems or for testing solutions to the problems.\n",
    "* You **may** create new IPython notebook cells to use for e.g. testing, debugging, exploring, etc.- this is encouraged in fact!- **just make sure that your final answer for each question is _in its own cell_ and _clearly indicated_**\n",
    "* When you see `In [*]:` to the left of the cell you are executing, this means that the code / query is _running_.\n",
    "    * **If the cell is hanging- i.e. running for too long: To restart the SQL connection, you must restart the entire python kernel**\n",
    "    * To restart kernel using the menu bar: \"Kernel >> Restart >> Clear all outputs & restart\"), then re-execute the sql connection cell at top\n",
    "    * You will also need to restart the connection if you want to load a different version of the database file\n",
    "* Remember:\n",
    "    * `%sql [SQL]` is for _single line_ SQL queries\n",
    "    * `%%sql [SQL]` is for _multi line_ SQL queries\n",
    "* **See Piazza for submission instructions**\n",
    "* _Have fun!_"
   ]
  },
  {
   "cell_type": "markdown",
   "metadata": {},
   "source": [
    "Problem 1\n",
    "---------\n",
    "\n",
    "**_[15 points total]_**\n",
    "\n",
    "For each part of this problem you will need to provide a _single_ SQL query which will check whether a certain condition holds on a specific instance of a relation, in the following way: **your query should return an empty result if and only if the condition holds on the instance.**  (If the condition _doesn't hold_, your query should return something non-empty, but it doesn't matter what this is).\n",
    "\n",
    "Note our language here: the conditions that we specify cannot be proved to hold **in general** without knowing the externally-defined functional dependencies; so what we mean is, _check whether they **could** hold in general for the relation, given any specific set of tuples_.\n",
    "\n",
    "You may assume that there will be no `NULL` values in the tables, **and you may assume that the relations are _sets_ rather than multisets**, but otherwise your query should work for general instances.  We define the schemas of the tables used below for convenience, but in this problem you will need to construct your own test tables if you wish to use them to check your answers!"
   ]
  },
  {
   "cell_type": "code",
   "execution_count": 3,
   "metadata": {},
   "outputs": [
    {
     "name": "stdout",
     "output_type": "stream",
     "text": [
      "Done.\n",
      "Done.\n",
      "Done.\n",
      "Done.\n",
      "Done.\n",
      "Done.\n",
      "Done.\n",
      "Done.\n"
     ]
    },
    {
     "data": {
      "text/plain": [
       "[]"
      ]
     },
     "execution_count": 3,
     "metadata": {},
     "output_type": "execute_result"
    }
   ],
   "source": [
    "%%sql\n",
    "DROP TABLE IF EXISTS R; CREATE TABLE R (W INT, X INT, Y INT, Z INT);\n",
    "DROP TABLE IF EXISTS Cat; CREATE TABLE Cat(cat_name TEXT, breed TEXT, owner_name TEXT);\n",
    "DROP TABLE IF EXISTS Owner; CREATE TABLE Owner(owner_name TEXT, ssn INT, hometown TEXT);\n",
    "DROP TABLE IF EXISTS S; CREATE TABLE S (A INT, B INT, C INT, D INT, E INT);"
   ]
  },
  {
   "cell_type": "markdown",
   "metadata": {},
   "source": [
    "### Part (a)\n",
    "\n",
    "**_[5 points]_**\n",
    "\n",
    "$\\{X, Y\\}$ is a **superkey** for a relation $R(W,X,Y,Z)$."
   ]
  },
  {
   "cell_type": "code",
   "execution_count": 4,
   "metadata": {},
   "outputs": [
    {
     "name": "stdout",
     "output_type": "stream",
     "text": [
      "Done.\n"
     ]
    },
    {
     "data": {
      "text/html": [
       "<table>\n",
       "    <tr>\n",
       "        <th>W</th>\n",
       "        <th>X</th>\n",
       "        <th>Y</th>\n",
       "        <th>Z</th>\n",
       "        <th>W_1</th>\n",
       "        <th>X_1</th>\n",
       "        <th>Y_1</th>\n",
       "        <th>Z_1</th>\n",
       "    </tr>\n",
       "</table>"
      ],
      "text/plain": [
       "[]"
      ]
     },
     "execution_count": 4,
     "metadata": {},
     "output_type": "execute_result"
    }
   ],
   "source": [
    "%%sql\n",
    "SELECT *\n",
    "FROM R r1, R r2\n",
    "WHERE r1.X = r2.X \n",
    "AND r1.Y = r2.Y \n",
    "AND (r1.W <> r2.W OR r1.Z <> r2.Z);"
   ]
  },
  {
   "cell_type": "markdown",
   "metadata": {},
   "source": [
    "### Part (b)\n",
    "\n",
    "**_[5 points]_**\n",
    "\n",
    "The individual attributes of a relation $R(W,X,Y,Z)$ are each keys."
   ]
  },
  {
   "cell_type": "code",
   "execution_count": 5,
   "metadata": {},
   "outputs": [
    {
     "name": "stdout",
     "output_type": "stream",
     "text": [
      "Done.\n"
     ]
    },
    {
     "data": {
      "text/html": [
       "<table>\n",
       "    <tr>\n",
       "        <th>W</th>\n",
       "        <th>X</th>\n",
       "        <th>Y</th>\n",
       "        <th>Z</th>\n",
       "        <th>W_1</th>\n",
       "        <th>X_1</th>\n",
       "        <th>Y_1</th>\n",
       "        <th>Z_1</th>\n",
       "    </tr>\n",
       "</table>"
      ],
      "text/plain": [
       "[]"
      ]
     },
     "execution_count": 5,
     "metadata": {},
     "output_type": "execute_result"
    }
   ],
   "source": [
    "%%sql\n",
    "SELECT *\n",
    "FROM R r1, R r2\n",
    "WHERE r1.W = r2.W AND (r1.X <> r2.X OR r1.Y <> r2.Y OR r1.Z <> r2.Z)\n",
    "OR r1.X = r2.X AND (r1.W <> r2.W OR r1.Y <> r2.Y OR r1.Z <> r2.Z)\n",
    "OR r1.Y = r2.Y AND (r1.X <> r2.X OR r1.W <> r2.W OR r1.Z <> r2.Z)\n",
    "OR r1.Z = r2.Z AND (r1.X <> r2.X OR r1.Y <> r2.Y OR r1.W <> r2.W);"
   ]
  },
  {
   "cell_type": "markdown",
   "metadata": {},
   "source": [
    "### Part (c)\n",
    "\n",
    "**_[5 points]_**\n",
    "\n",
    "A **multivalued dependency (MVD)** is defined as follows: let $R$ be a schema i.e. a set of attributes, and consider two _sets of attributes_ $A\\subseteq R$ and $B\\subseteq R$.  We say that a multivalued dependency (MVD), written:\n",
    "\n",
    "$A\\twoheadrightarrow B$\n",
    "\n",
    "**holds on $R$** if whenever there are two tuples $t_1,t_2$ such that $t_1[A] = t_2[A]$, there also exists a third tuple $t_3$ such that:\n",
    "\n",
    "* $t_3[A] = t_1[A] = t_2[A]$\n",
    "* $t_3[B] = t_1[B]$\n",
    "* $t_3[R\\setminus B] = t_2[R\\setminus B]$\n",
    "\n",
    "Note that $R\\setminus B$ is all the attributes in $R$ that are not in $B$, and that $t_3$ need not be distinct from $t_1$ or $t_2$.  Note especially that an MVD holds on an entire _relation_, meaning that any two tuples (in any order) in the relation should satisfy the above conditions if the MVD holds.  **See the end of the lecture 7 slides for more on MVDs!**\n",
    "\n",
    "\n",
    "In this problem, write your query to check if the MVD $\\{B\\}\\twoheadrightarrow \\{D,E\\}$ holds for a relation $S(A, B, C, D, E)$."
   ]
  },
  {
   "cell_type": "code",
   "execution_count": 6,
   "metadata": {},
   "outputs": [
    {
     "name": "stdout",
     "output_type": "stream",
     "text": [
      "Done.\n"
     ]
    },
    {
     "data": {
      "text/html": [
       "<table>\n",
       "    <tr>\n",
       "        <th>A</th>\n",
       "        <th>B</th>\n",
       "        <th>C</th>\n",
       "        <th>D</th>\n",
       "        <th>E</th>\n",
       "        <th>A_1</th>\n",
       "        <th>B_1</th>\n",
       "        <th>C_1</th>\n",
       "        <th>D_1</th>\n",
       "        <th>E_1</th>\n",
       "    </tr>\n",
       "</table>"
      ],
      "text/plain": [
       "[]"
      ]
     },
     "execution_count": 6,
     "metadata": {},
     "output_type": "execute_result"
    }
   ],
   "source": [
    "%%sql\n",
    "SELECT *\n",
    "FROM S s1, S s2\n",
    "WHERE s1.B = s2.B AND NOT EXISTS (\n",
    "    SELECT * \n",
    "    FROM S s3\n",
    "    WHERE s3.B = s1.B\n",
    "        AND s3.D = s1.D\n",
    "        AND s3.E = s1.E\n",
    "        AND s3.A = s2.A\n",
    "        AND s3.C = s2.C);"
   ]
  },
  {
   "cell_type": "markdown",
   "metadata": {},
   "source": [
    "Problem 2\n",
    "---------\n",
    "\n",
    "**_[20 points total]_**\n",
    "\n",
    "### Part (a)\n",
    "\n",
    "**_[10 points]_**\n",
    "\n",
    "Consider a relation $T(V,W,X,Y,Z)$.  Provide _two different sets_ of functional dependencies, `F_1` and `F_2`, such that each one results in $T$ having the **largest number of distinct keys** $T$ could possibly have.\n",
    "\n",
    "Store your lists of FDs as python lists having elements that are _pairs of sets_; for example to set `F_1` as the set consisting of two FDs, $\\{V,W\\}\\rightarrow\\{X,Y\\}$ and $\\{W\\}\\rightarrow\\{X\\}$:\n",
    "\n",
    "```python\n",
    "F_1 = [(set(['V','W']), set(['X','Y'])), (set(['W']), set(['X']))]\n",
    "```\n",
    "\n",
    "*Note: the above is not necessarily one of the FDs- just an example of the syntax!\n",
    "\n",
    "*Hint: You may use any of the functions from the lecture activities if they seem helpful!  However your final answer should not involve these functions directly, nor are they necessary for this problem"
   ]
  },
  {
   "cell_type": "code",
   "execution_count": 7,
   "metadata": {},
   "outputs": [],
   "source": [
    "T = set(['V','W','X','Y','Z'])"
   ]
  },
  {
   "cell_type": "code",
   "execution_count": 8,
   "metadata": {},
   "outputs": [],
   "source": [
    "F_1 = [(set(['V','W']), set(['X','Y','Z'])),\n",
    "     (set(['V','X']), set(['W','Y','Z'])),\n",
    "     (set(['V','Y']), set(['W','X','Z'])),\n",
    "     (set(['V','Z']), set(['W','X','Y'])),\n",
    "     (set(['W','X']), set(['V','Y','Z'])),\n",
    "     (set(['W','Y']), set(['V','X','Z'])),\n",
    "     (set(['W','Z']), set(['V','X','Y'])),\n",
    "     (set(['X','Y']), set(['V','W','Z'])),\n",
    "     (set(['X','Z']), set(['V','W','Y'])),\n",
    "     (set(['Y','Z']), set(['V','W','X']))]\n",
    "\n",
    "F_2 = [(set(['X','Y','Z']), set(['V','W'])),\n",
    "     (set(['W','Y','Z']), set(['V','X'])),\n",
    "     (set(['W','X','Z']), set(['V','Y'])),\n",
    "     (set(['W','X','Y']), set(['V','Z'])),\n",
    "     (set(['V','Y','Z']), set(['W','X'])),\n",
    "     (set(['V','X','Z']), set(['W','Y'])),\n",
    "     (set(['V','X','Y']), set(['W','Z'])),\n",
    "     (set(['V','W','Z']), set(['X','Y'])),\n",
    "     (set(['V','W','Y']), set(['X','Z'])),\n",
    "     (set(['V','W','X']), set(['Y','Z']))]"
   ]
  },
  {
   "cell_type": "code",
   "execution_count": 9,
   "metadata": {},
   "outputs": [],
   "source": [
    "from closure import compute_closure"
   ]
  },
  {
   "cell_type": "code",
   "execution_count": 10,
   "metadata": {},
   "outputs": [],
   "source": [
    "def is_superkey_for(A, X, fds, verbose=False): \n",
    "    return X.issubset(compute_closure(A, fds, verbose=verbose))"
   ]
  },
  {
   "cell_type": "code",
   "execution_count": 11,
   "metadata": {},
   "outputs": [],
   "source": [
    "import itertools\n",
    "def is_key_for(A, X, fds, verbose=False):\n",
    "    subsets = set(itertools.combinations(A, len(A)-1))\n",
    "    return is_superkey_for(A, X, fds) and \\\n",
    "        all([not is_superkey_for(set(SA), X, fds) for SA in subsets])"
   ]
  },
  {
   "cell_type": "code",
   "execution_count": 12,
   "metadata": {},
   "outputs": [
    {
     "name": "stdout",
     "output_type": "stream",
     "text": [
      "True\n"
     ]
    }
   ],
   "source": [
    "print is_key_for(set(['V','W']), T, F_1)"
   ]
  },
  {
   "cell_type": "markdown",
   "metadata": {},
   "source": [
    "### Part (b)\n",
    "\n",
    "**_[10 points]_**\n",
    "\n",
    "Consider a schema $T(A_1,...,A_n)$ which has FDs $\\{A_i,A_{i+1}\\}\\rightarrow\\{A_{i+2}\\}$ for $i=1,...,n-2$.  Create an instance of $T$, for $n=4$, for which these FDs hold, and no other ones do- i.e. **all other FDs are violated.**\n",
    "\n",
    "Use a series of `INSERT` statements below to populate the table `T`:"
   ]
  },
  {
   "cell_type": "code",
   "execution_count": 13,
   "metadata": {},
   "outputs": [
    {
     "name": "stdout",
     "output_type": "stream",
     "text": [
      "Done.\n",
      "Done.\n",
      "1 rows affected.\n",
      "(sqlite3.OperationalError) unrecognized token: \"#\" [SQL: u'# violate A -> B/C/D\\nINSERT INTO T VALUES (0,1,1,1);']\n"
     ]
    }
   ],
   "source": [
    "%%sql\n",
    "DROP TABLE IF EXISTS T; \n",
    "CREATE TABLE T (A INT, B INT, C INT, D INT);\n",
    "INSERT INTO T VALUES (0,0,0,0);\n",
    "# violate A -> B/C/D\n",
    "INSERT INTO T VALUES (0,1,1,1);\n",
    "# violate B -> A/C/D\n",
    "INSERT INTO T VALUES (2,1,2,2);\n",
    "# violate C -> A/B/D\n",
    "INSERT INTO T VALUES (3,3,2,3);\n",
    "# violate D -> A/B/C\n",
    "INSERT INTO T VALUES (2,2,2,0);\n",
    "# violate AC -> B, AD -> B, CD-> B, ACD -> B\n",
    "INSERT INTO T VALUES (0,2,0,0);\n",
    "# violate AC -> D\n",
    "INSERT INTO T VALUES (0,3,0,2);\n",
    "# violate BC -> A, BD -> A, CD->A, BCD -> A\n",
    "INSERT INTO T VALUES (4,3,0,2);\n",
    "# violate CD -> A, CD -> B\n",
    "INSERT INTO T VALUES (3,0,0,2);\n",
    "# violate AD -> C\n",
    "INSERT INTO T VALUES (3,1,4,2);\n",
    "# violate BD -> C\n",
    "INSERT INTO T VALUES (4,1,3,2);"
   ]
  },
  {
   "cell_type": "markdown",
   "metadata": {},
   "source": [
    "Problem 3\n",
    "---------\n",
    "\n",
    "**_[30 points total]_**"
   ]
  },
  {
   "cell_type": "markdown",
   "metadata": {},
   "source": [
    "Consider a relation $R(X,Y,Z)$.  In each part of this problem you will be given a condition, and you need to create the following three instances of $R$ (as tables in SQL):\n",
    "\n",
    "1. An instance $A$\n",
    "2. An instance $B$ which differs from $A$ only in that it has one **_fewer_** row. Any row in B should also be there in A.\n",
    "3. An instance $C$ which differs from $A$ only in that it has one **_additional_** row. Apart from the additional row, all the rows of C are same as A."
   ]
  },
  {
   "cell_type": "markdown",
   "metadata": {},
   "source": [
    "### Part (a)\n",
    "\n",
    "**_[10 points]_**\n",
    "\n",
    "Create $A$, $B$ and $C$ such that each individual attribute is a key for $A$, but none of the individual attributes is a key for $B$ or $C$.  If you believe that $B$ and/or $C$ cannot be created, provide them as an empty table."
   ]
  },
  {
   "cell_type": "code",
   "execution_count": 15,
   "metadata": {},
   "outputs": [
    {
     "name": "stdout",
     "output_type": "stream",
     "text": [
      "Done.\n",
      "Done.\n",
      "1 rows affected.\n",
      "1 rows affected.\n",
      "1 rows affected.\n",
      "Done.\n",
      "Done.\n",
      "Done.\n",
      "Done.\n",
      "1 rows affected.\n",
      "1 rows affected.\n",
      "1 rows affected.\n",
      "1 rows affected.\n"
     ]
    },
    {
     "data": {
      "text/plain": [
       "[]"
      ]
     },
     "execution_count": 15,
     "metadata": {},
     "output_type": "execute_result"
    }
   ],
   "source": [
    "%%sql\n",
    "DROP TABLE IF EXISTS A;\n",
    "CREATE TABLE A (X INT, Y INT, Z INT);\n",
    "INSERT INTO A VALUES (1,2,3);\n",
    "INSERT INTO A VALUES (2,3,4);\n",
    "INSERT INTO A VALUES (3,4,5);\n",
    "DROP TABLE IF EXISTS B;\n",
    "CREATE TABLE B (X INT, Y INT, Z INT);\n",
    "DROP TABLE IF EXISTS C; \n",
    "CREATE TABLE C (X INT, Y INT, Z INT);\n",
    "INSERT INTO C VALUES (1,2,3);\n",
    "INSERT INTO C VALUES (2,3,4);\n",
    "INSERT INTO C VALUES (3,4,5);\n",
    "INSERT INTO C VALUES (1,3,5);"
   ]
  },
  {
   "cell_type": "markdown",
   "metadata": {},
   "source": [
    "### Part (b)\n",
    "\n",
    "**_[10 points]_**\n",
    "\n",
    "Create $A$, $B$ and $C$ such that ONLY the functional dependencies $\\{Z\\} \\rightarrow \\{Y\\}$ and $\\{X,Z\\} \\rightarrow \\{Y\\}$ hold on $B$, ONLY the functional dependency $\\{X,Z\\} \\rightarrow \\{Y\\}$ holds on $A$ and NO functional dependencies hold on $C$. If you believe $B$ and/or $C$ cannot be created, provide them as an empty table.\n",
    "\n"
   ]
  },
  {
   "cell_type": "code",
   "execution_count": 16,
   "metadata": {},
   "outputs": [
    {
     "name": "stdout",
     "output_type": "stream",
     "text": [
      "Done.\n",
      "Done.\n",
      "1 rows affected.\n",
      "(sqlite3.OperationalError) near \"#violate\": syntax error [SQL: u'#violate X -> Y, X->Z\\nINSERT INTO B VALUES (0,1,1);']\n"
     ]
    }
   ],
   "source": [
    "%%sql\n",
    "DROP TABLE IF EXISTS A;\n",
    "CREATE TABLE A (X INT, Y INT, Z INT);\n",
    "INSERT INTO B VALUES (0,0,0);\n",
    "#violate X -> Y, X->Z\n",
    "INSERT INTO B VALUES (0,1,1);\n",
    "#violate Y -> X, Y -> Z\n",
    "INSERT INTO B VALUES (2,0,2);\n",
    "#violate Z -> X\n",
    "INSERT INTO B VALUES (1,1,1);\n",
    "#violate XY -> Z\n",
    "INSERT INTO B VALUES (1,1,3);\n",
    "#violate YZ -> X\n",
    "INSERT INTO B VALUES (0,1,3);\n",
    "#violate Z -> Y\n",
    "INSERT INTO B VALUES (2,3,3);\n",
    "\n",
    "DROP TABLE IF EXISTS B;\n",
    "CREATE TABLE B (A int, B int, C int);\n",
    "INSERT INTO B VALUES (0,0,0);\n",
    "#violate X -> Y, X->Z\n",
    "INSERT INTO B VALUES (0,1,1);\n",
    "#violate Y -> X, Y -> Z\n",
    "INSERT INTO B VALUES (2,0,2);\n",
    "#violate Z -> X\n",
    "INSERT INTO B VALUES (1,1,1);\n",
    "#violate XY -> Z\n",
    "INSERT INTO B VALUES (1,1,3);\n",
    "#violate YZ -> X\n",
    "INSERT INTO B VALUES (0,1,3);\n",
    "\n",
    "\n",
    "DROP TABLE IF EXISTS C;\n",
    "CREATE TABLE C (A int, B int, C int);\n",
    "INSERT INTO C VALUES (0,0,0);\n",
    "#violate X -> Y, X->Z\n",
    "INSERT INTO C VALUES (0,1,1);\n",
    "#violate Y -> X, Y -> Z\n",
    "INSERT INTO C VALUES (2,0,2);\n",
    "#violate Z -> X\n",
    "INSERT INTO C VALUES (1,1,1);\n",
    "#violate XY -> Z\n",
    "INSERT INTO C VALUES (1,1,3);\n",
    "#violate YZ -> X\n",
    "INSERT INTO C VALUES (0,1,3);\n",
    "#violate Z -> Y\n",
    "INSERT INTO C VALUES (2,3,3);\n",
    "#violate XZ -> Y\n",
    "INSERT INTO C VALUES (2,4,3);"
   ]
  },
  {
   "cell_type": "markdown",
   "metadata": {},
   "source": [
    "### Part (c)\n",
    "\n",
    "**_[10 points]_**\n",
    "\n",
    "Create $A$, $B$ and $C$ such that the MVD $Z\\twoheadrightarrow X$ holds in $A$, but not in $B$ or $C$.  If you believe that $B$ and/or $C$ cannot be created, provide them as an empty table.\n",
    "\n"
   ]
  },
  {
   "cell_type": "code",
   "execution_count": 26,
   "metadata": {},
   "outputs": [
    {
     "name": "stdout",
     "output_type": "stream",
     "text": [
      "Done.\n",
      "Done.\n",
      "1 rows affected.\n",
      "1 rows affected.\n",
      "1 rows affected.\n",
      "1 rows affected.\n",
      "Done.\n",
      "Done.\n",
      "1 rows affected.\n",
      "1 rows affected.\n",
      "1 rows affected.\n",
      "Done.\n",
      "Done.\n",
      "1 rows affected.\n",
      "1 rows affected.\n",
      "1 rows affected.\n",
      "1 rows affected.\n",
      "1 rows affected.\n"
     ]
    },
    {
     "data": {
      "text/plain": [
       "[]"
      ]
     },
     "execution_count": 26,
     "metadata": {},
     "output_type": "execute_result"
    }
   ],
   "source": [
    "%%sql\n",
    "DROP TABLE IF EXISTS A;\n",
    "CREATE TABLE A (X INT, Y INT, Z INT);\n",
    "INSERT INTO A VALUES (4,2,1);\n",
    "INSERT INTO A VALUES (5,2,1);\n",
    "INSERT INTO A VALUES (4,3,1);\n",
    "INSERT INTO A VALUES (5,3,1);\n",
    "\n",
    "DROP TABLE IF EXISTS B;\n",
    "CREATE TABLE B (X INT, Y INT, Z INT);\n",
    "INSERT INTO B VALUES (4,2,1);\n",
    "INSERT INTO B VALUES (5,2,1);\n",
    "INSERT INTO B VALUES (4,3,1);\n",
    "\n",
    "DROP TABLE IF EXISTS C;\n",
    "CREATE TABLE C (X INT, Y INT, Z INT);\n",
    "INSERT INTO C VALUES (4,2,1);\n",
    "INSERT INTO C VALUES (5,2,1);\n",
    "INSERT INTO C VALUES (4,3,1);\n",
    "INSERT INTO C VALUES (5,3,1);\n",
    "INSERT INTO C VALUES (4,7,1);"
   ]
  },
  {
   "cell_type": "code",
   "execution_count": 27,
   "metadata": {},
   "outputs": [
    {
     "name": "stdout",
     "output_type": "stream",
     "text": [
      "Done.\n"
     ]
    },
    {
     "data": {
      "text/html": [
       "<table>\n",
       "    <tr>\n",
       "        <th>X</th>\n",
       "        <th>Y</th>\n",
       "        <th>Z</th>\n",
       "        <th>X_1</th>\n",
       "        <th>Y_1</th>\n",
       "        <th>Z_1</th>\n",
       "    </tr>\n",
       "    <tr>\n",
       "        <td>5</td>\n",
       "        <td>2</td>\n",
       "        <td>1</td>\n",
       "        <td>4</td>\n",
       "        <td>7</td>\n",
       "        <td>1</td>\n",
       "    </tr>\n",
       "    <tr>\n",
       "        <td>5</td>\n",
       "        <td>3</td>\n",
       "        <td>1</td>\n",
       "        <td>4</td>\n",
       "        <td>7</td>\n",
       "        <td>1</td>\n",
       "    </tr>\n",
       "</table>"
      ],
      "text/plain": [
       "[(5, 2, 1, 4, 7, 1), (5, 3, 1, 4, 7, 1)]"
      ]
     },
     "execution_count": 27,
     "metadata": {},
     "output_type": "execute_result"
    }
   ],
   "source": [
    "%%sql\n",
    "SELECT *\n",
    "FROM C s1, C s2\n",
    "WHERE s1.Z = s2.Z AND NOT EXISTS (\n",
    "    SELECT * \n",
    "    FROM C s3\n",
    "    WHERE s3.Z = s1.Z\n",
    "        AND s3.X = s1.X\n",
    "        AND s3.Y = s2.Y);"
   ]
  },
  {
   "cell_type": "code",
   "execution_count": null,
   "metadata": {},
   "outputs": [],
   "source": []
  }
 ],
 "metadata": {
  "kernelspec": {
   "display_name": "Python 2",
   "language": "python",
   "name": "python2"
  },
  "language_info": {
   "codemirror_mode": {
    "name": "ipython",
    "version": 2
   },
   "file_extension": ".py",
   "mimetype": "text/x-python",
   "name": "python",
   "nbconvert_exporter": "python",
   "pygments_lexer": "ipython2",
   "version": "2.7.13"
  }
 },
 "nbformat": 4,
 "nbformat_minor": 1
}
